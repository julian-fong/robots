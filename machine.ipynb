{
 "cells": [
  {
   "cell_type": "code",
   "execution_count": null,
   "metadata": {},
   "outputs": [],
   "source": [
    "import torch\n",
    "import torch.nn as nn\n",
    "from torch.nn import functional as F\n",
    "import os\n",
    "import matplotlib.pyplot as plt\n",
    "import torchtext\n",
    "import spacy\n",
    "import tiktoken\n",
    "import pandas as pd\n",
    "import numpy as np\n",
    "from gensim.corpora.dictionary import Dictionary\n",
    "\n",
    "from tqdm.notebook import tqdm"
   ]
  },
  {
   "cell_type": "code",
   "execution_count": 26,
   "metadata": {},
   "outputs": [],
   "source": [
    "#GLOBALS\n",
    "\n",
    "block_size = 256 #This is the value of T"
   ]
  },
  {
   "cell_type": "code",
   "execution_count": 27,
   "metadata": {},
   "outputs": [],
   "source": [
    "import os\n",
    "en = spacy.load('en_core_web_sm')\n",
    "de = spacy.load('de_core_news_sm')\n",
    "#spacy.load('en_core_web_sm')\n",
    "#spacy.load('de_core_news_sm')\n",
    "\n",
    "#dataset https://nlp.stanford.edu/projects/nmt/"
   ]
  },
  {
   "cell_type": "code",
   "execution_count": 30,
   "metadata": {},
   "outputs": [],
   "source": [
    "def create_dataset():\n",
    "    num_examples = 10000\n",
    "    vocab_en = Dictionary()\n",
    "\n",
    "    # vocab_en.add_documents([[\"<START>\"]])\n",
    "    # vocab_en.add_documents([[\"<END>\"]])\n",
    "    vocab_en.add_documents([[\"<PAD>\"]])\n",
    "\n",
    "    vocab_ger = Dictionary()\n",
    "\n",
    "    vocab_ger.add_documents([[\"<PAD>\"]])\n",
    "    vocab_ger.add_documents([[\"<START>\"]])\n",
    "    vocab_ger.add_documents([[\"<END>\"]])\n",
    "\n",
    "    en_max = 0 \n",
    "    with open(os.getcwd()+'\\\\data\\\\train_en.txt', 'r', encoding='utf8') as f:\n",
    "        idx_en = []\n",
    "        sentences_en = []\n",
    "        for i in tqdm(range(num_examples)):\n",
    "            line = f.readline()\n",
    "            line = line.replace(\"\\n\", \"\")\n",
    "            len_pad = 0\n",
    "            doc = en(line)\n",
    "            sentence = [[token.text.lower() for token in doc]]\n",
    "            if len(sentence[0]) > en_max:\n",
    "                en_max = len(sentence[0])\n",
    "                print(en_max)\n",
    "            vocab_en.add_documents(sentence)\n",
    "            sentence = [\"<PAD>\"] + sentence[0] + [\"<PAD>\"]\n",
    "\n",
    "            if len(sentence) <= block_size:\n",
    "                len_pad = block_size - len(sentence)\n",
    "                sentence = sentence + len_pad*\"<PAD> \".split()\n",
    "                assert len(sentence) == block_size, print(len(sentence))\n",
    "                idx_en.append(i)\n",
    "                sentences_en.append(sentence)\n",
    "            else:\n",
    "                sentences_en.append(np.NaN)\n",
    "\n",
    "    print(en_max)    \n",
    "    print(len(sentences_en))\n",
    "    print(len(vocab_en.token2id))\n",
    "\n",
    "    vocab_en.save(os.getcwd()+\"\\\\vocab\\\\vocab_en.pkl\")\n",
    "\n",
    "\n",
    "    de_max = 0 \n",
    "    with open(os.getcwd()+'\\\\data\\\\train_de.txt', 'r', encoding='utf8') as f:\n",
    "        idx_de = []\n",
    "        sentences_de = []\n",
    "        for i in tqdm(range(num_examples)):\n",
    "            line = f.readline()\n",
    "            line = line.replace(\"\\n\", \"\")\n",
    "            len_pad = 0\n",
    "            doc = de(line)\n",
    "            sentence = [[token.text.lower() for token in doc]]\n",
    "            if len(sentence[0]) > de_max:\n",
    "                de_max = len(sentence[0])\n",
    "                print(de_max)\n",
    "            vocab_ger.add_documents(sentence)\n",
    "            sentence = [\"<START>\"] + sentence[0] + [\"<END>\"]\n",
    "            if len(sentence) <= block_size:\n",
    "                len_pad = block_size - len(sentence)\n",
    "                sentence = sentence + len_pad*\"<PAD> \".split()\n",
    "                assert len(sentence) == block_size, print(len(sentence))\n",
    "                idx_de.append(i)\n",
    "                sentences_de.append(sentence)\n",
    "            else:\n",
    "                sentences_de.append(np.NaN)\n",
    "    print(de_max)  \n",
    "    print(len(sentences_de))\n",
    "    print(len(vocab_ger.token2id))\n",
    "\n",
    "    vocab_ger.save(os.getcwd()+\"\\\\vocab\\\\vocab_ger.pkl\")\n",
    "\n",
    "    df = pd.DataFrame()\n",
    "\n",
    "    df['idx_inputs'] = idx_en\n",
    "    df['inputs'] = sentences_en\n",
    "    df['idx_targets'] = idx_de\n",
    "    df['targets'] = sentences_de\n",
    "\n",
    "    assert len(df.loc[df['idx_inputs'] == df['idx_targets']]) == len(df), print(\"sentences do not align\")\n",
    "\n",
    "    df = df.dropna()\n",
    "    df = df.drop(columns = [\"idx_inputs\", \"idx_targets\"], axis = 1)\n",
    "    df.to_csv(os.getcwd()+\"\\\\data\\\\test_data.csv\", index = False)"
   ]
  },
  {
   "cell_type": "code",
   "execution_count": 31,
   "metadata": {},
   "outputs": [
    {
     "data": {
      "application/vnd.jupyter.widget-view+json": {
       "model_id": "2b2c022ec55f491c8c4876a04917011f",
       "version_major": 2,
       "version_minor": 0
      },
      "text/plain": [
       "  0%|          | 0/10000 [00:00<?, ?it/s]"
      ]
     },
     "metadata": {},
     "output_type": "display_data"
    },
    {
     "name": "stdout",
     "output_type": "stream",
     "text": [
      "32\n",
      "34\n",
      "47\n",
      "49\n",
      "54\n",
      "57\n",
      "58\n",
      "67\n",
      "87\n",
      "91\n",
      "92\n",
      "97\n",
      "98\n",
      "100\n",
      "105\n",
      "117\n",
      "130\n",
      "130\n",
      "10000\n",
      "19809\n"
     ]
    },
    {
     "data": {
      "application/vnd.jupyter.widget-view+json": {
       "model_id": "ea2c82ba162d492dabc69bb6e00f7b7f",
       "version_major": 2,
       "version_minor": 0
      },
      "text/plain": [
       "  0%|          | 0/10000 [00:00<?, ?it/s]"
      ]
     },
     "metadata": {},
     "output_type": "display_data"
    },
    {
     "name": "stdout",
     "output_type": "stream",
     "text": [
      "34\n",
      "43\n",
      "48\n",
      "63\n",
      "64\n",
      "71\n",
      "75\n",
      "86\n",
      "98\n",
      "100\n",
      "106\n",
      "135\n",
      "135\n",
      "10000\n",
      "30543\n"
     ]
    }
   ],
   "source": [
    "create = True\n",
    "if create:\n",
    "    create_dataset()\n",
    "    vocab_en = Dictionary.load(os.getcwd()+\"\\\\vocab\\\\vocab_en.pkl\")\n",
    "    vocab_de = Dictionary.load(os.getcwd()+\"\\\\vocab\\\\vocab_ger.pkl\")\n",
    "else:\n",
    "    vocab_en = Dictionary.load(os.getcwd()+\"\\\\vocab\\\\vocab_en.pkl\")\n",
    "    vocab_de = Dictionary.load(os.getcwd()+\"\\\\vocab\\\\vocab_ger.pkl\")"
   ]
  },
  {
   "cell_type": "code",
   "execution_count": 20,
   "metadata": {},
   "outputs": [],
   "source": [
    "s_to_i_en = vocab_en\n",
    "i_to_s_en = vocab_en.token2id\n",
    "\n",
    "s_to_i_de = vocab_de\n",
    "i_to_s_de = vocab_de.token2id"
   ]
  },
  {
   "cell_type": "code",
   "execution_count": null,
   "metadata": {},
   "outputs": [],
   "source": [
    "#TRAIN AND VAL DATASETS\n",
    "\n",
    "df = pd.read_csv(os.getcwd()+\"\\\\data\\\\data.csv\")"
   ]
  },
  {
   "cell_type": "code",
   "execution_count": null,
   "metadata": {},
   "outputs": [],
   "source": [
    "#BATCH LOADER\n",
    "\n",
    "def get"
   ]
  },
  {
   "attachments": {},
   "cell_type": "markdown",
   "metadata": {},
   "source": [
    "rough work"
   ]
  },
  {
   "cell_type": "code",
   "execution_count": 23,
   "metadata": {},
   "outputs": [
    {
     "data": {
      "text/plain": [
       "['<START>', '<START>', '<START>']"
      ]
     },
     "execution_count": 23,
     "metadata": {},
     "output_type": "execute_result"
    }
   ],
   "source": [
    "test = [0,0,0]\n",
    "[s_to_i_de[i] for i in test]"
   ]
  },
  {
   "cell_type": "code",
   "execution_count": 10,
   "metadata": {},
   "outputs": [
    {
     "name": "stdout",
     "output_type": "stream",
     "text": [
      "hello\n",
      "my\n",
      "name\n",
      "is\n",
      "hello\n",
      "name\n",
      "is\n",
      "my\n"
     ]
    }
   ],
   "source": [
    "test = \"hello my name is hello name is my\"\n",
    "test2 = \"one two three four\"\n",
    "\n",
    "doc_ = en(test)\n",
    "\n",
    "for token in doc_:\n",
    "    print(token.text.lower())\n",
    "sentence_ = [[token.text for token in doc_]]\n",
    "#sentence = [sentence + ['one','two']]\n",
    "\n",
    "# sentence\n",
    "\n",
    "sentence2 = [['one', 'two', 'hello']]"
   ]
  },
  {
   "cell_type": "code",
   "execution_count": 11,
   "metadata": {},
   "outputs": [],
   "source": [
    "vocab = Dictionary()\n",
    "\n",
    "vocab.add_documents(sentence_)"
   ]
  },
  {
   "cell_type": "code",
   "execution_count": 15,
   "metadata": {},
   "outputs": [
    {
     "data": {
      "text/plain": [
       "'<PAD>'"
      ]
     },
     "execution_count": 15,
     "metadata": {},
     "output_type": "execute_result"
    }
   ],
   "source": [
    "vocab_en[0]"
   ]
  },
  {
   "cell_type": "code",
   "execution_count": null,
   "metadata": {},
   "outputs": [],
   "source": [
    "vocab.doc2idx(['hello'])"
   ]
  },
  {
   "cell_type": "code",
   "execution_count": null,
   "metadata": {},
   "outputs": [],
   "source": [
    "vocab.save(os.getcwd()+\"\\\\vocab\\\\vocab.pkl\")"
   ]
  },
  {
   "cell_type": "code",
   "execution_count": null,
   "metadata": {},
   "outputs": [],
   "source": [
    "vocab_ = Dictionary.load(os.getcwd()+\"\\\\vocab\\\\vocab.pkl\")\n",
    "\n",
    "vocab_[0]\n",
    "vocab_.doc2idx(['hello'])"
   ]
  },
  {
   "cell_type": "code",
   "execution_count": null,
   "metadata": {},
   "outputs": [],
   "source": [
    "df = pd.DataFrame()"
   ]
  },
  {
   "cell_type": "code",
   "execution_count": null,
   "metadata": {},
   "outputs": [],
   "source": [
    "vocab_en = Dictionary()\n",
    "\n",
    "# vocab_en.add_documents([[\"<START>\"]])\n",
    "# vocab_en.add_documents([[\"<END>\"]])\n",
    "vocab_en.add_documents([[\"<PAD>\"]])\n",
    "\n",
    "vocab_ger = Dictionary()\n",
    "\n",
    "vocab_ger.add_documents([[\"<START>\"]])\n",
    "vocab_ger.add_documents([[\"<END>\"]])\n",
    "vocab_ger.add_documents([[\"<PAD>\"]])"
   ]
  },
  {
   "attachments": {},
   "cell_type": "markdown",
   "metadata": {},
   "source": [
    "max in german text is 238\n",
    "max in english text is 342\n",
    "\n",
    "pad both to 128\n",
    "\n",
    "15 minutes for 100000 sentences, both german and english\n",
    "\n",
    "328514"
   ]
  },
  {
   "cell_type": "code",
   "execution_count": null,
   "metadata": {},
   "outputs": [],
   "source": [
    "en_max = 0 \n",
    "with open(os.getcwd()+'\\\\data\\\\train_en.txt', 'r', encoding='utf8') as f:\n",
    "    idx_en = []\n",
    "    sentences_en = []\n",
    "    for i in tqdm(range(400000)):\n",
    "        line = f.readline()\n",
    "        line = line.replace(\"\\n\", \"\")\n",
    "        len_pad = 0\n",
    "        doc = en(line)\n",
    "        sentence = [[token.text.lower() for token in doc]]\n",
    "        if len(sentence[0]) > en_max:\n",
    "            en_max = len(sentence[0])\n",
    "            print(en_max)\n",
    "        vocab_en.add_documents(sentence)\n",
    "        sentence = [\"<PAD>\"] + sentence[0] + [\"<PAD>\"]\n",
    "        \n",
    "        idx_en.append(i)\n",
    "        if len(sentence) <= 256:\n",
    "            len_pad = 256 - len(sentence)\n",
    "            sentence = sentence + len_pad*\"<PAD> \".split()\n",
    "            assert len(sentence) == 256, print(len(sentence))\n",
    "            sentences_en.append(sentence)\n",
    "        else:\n",
    "            sentences_en.append(np.NaN)\n",
    "\n",
    "print(en_max)    \n",
    "print(len(sentences_en))\n",
    "print(len(vocab_en.token2id))\n",
    "\n",
    "vocab_en.save(os.getcwd()+\"\\\\vocab\\\\vocab_en.pkl\")"
   ]
  },
  {
   "cell_type": "code",
   "execution_count": null,
   "metadata": {},
   "outputs": [],
   "source": [
    "de_max = 0 \n",
    "with open(os.getcwd()+'\\\\data\\\\train_de.txt', 'r', encoding='utf8') as f:\n",
    "    idx_de = []\n",
    "    sentences_de = []\n",
    "    for i in tqdm(range(400000)):\n",
    "        line = f.readline()\n",
    "        line = line.replace(\"\\n\", \"\")\n",
    "        len_pad = 0\n",
    "        doc = de(line)\n",
    "        sentence = [[token.text.lower() for token in doc]]\n",
    "        if len(sentence[0]) > de_max:\n",
    "            de_max = len(sentence[0])\n",
    "            print(de_max)\n",
    "        vocab_ger.add_documents(sentence)\n",
    "        sentence = [\"<START>\"] + sentence[0] + [\"<END>\"]\n",
    "\n",
    "        idx_de.append(i)\n",
    "        if len(sentence) < 256:\n",
    "            len_pad = 256 - len(sentence)\n",
    "            sentence = sentence + len_pad*\"<PAD> \".split()\n",
    "            assert len(sentence) == 256, print(len(sentence))\n",
    "            sentences_de.append(sentence)\n",
    "        else:\n",
    "            sentences_de.append(np.NaN)\n",
    "\n",
    "print(de_max)  \n",
    "print(len(sentences_de))\n",
    "print(len(vocab_ger.token2id))\n",
    "\n",
    "vocab_ger.save(os.getcwd()+\"\\\\vocab\\\\vocab_ger.pkl\")"
   ]
  },
  {
   "cell_type": "code",
   "execution_count": null,
   "metadata": {},
   "outputs": [],
   "source": [
    "assert idx_en == idx_de, print(\"sentences do not align\")"
   ]
  },
  {
   "cell_type": "code",
   "execution_count": null,
   "metadata": {},
   "outputs": [],
   "source": [
    "df['idx_en'] = pd.Series(idx_en)\n",
    "df['inputs'] = pd.Series(sentences_en)\n",
    "df['idx_targets'] = pd.Series(idx_de)\n",
    "df['targets'] = pd.Series(sentences_de)"
   ]
  },
  {
   "cell_type": "code",
   "execution_count": null,
   "metadata": {},
   "outputs": [],
   "source": [
    "df.tail()"
   ]
  },
  {
   "cell_type": "code",
   "execution_count": null,
   "metadata": {},
   "outputs": [],
   "source": [
    "df2 = df.loc[df['idx_en'] == df['idx_targets']]"
   ]
  },
  {
   "cell_type": "code",
   "execution_count": null,
   "metadata": {},
   "outputs": [],
   "source": [
    "df2"
   ]
  },
  {
   "cell_type": "code",
   "execution_count": null,
   "metadata": {},
   "outputs": [],
   "source": [
    "len(df)"
   ]
  },
  {
   "cell_type": "code",
   "execution_count": null,
   "metadata": {},
   "outputs": [],
   "source": [
    "df = df.dropna()"
   ]
  },
  {
   "cell_type": "code",
   "execution_count": null,
   "metadata": {},
   "outputs": [],
   "source": [
    "df = df.drop(columns = [\"idx_en\", \"idx_targets\"], axis = 1)"
   ]
  },
  {
   "cell_type": "code",
   "execution_count": null,
   "metadata": {},
   "outputs": [],
   "source": [
    "df"
   ]
  },
  {
   "cell_type": "code",
   "execution_count": null,
   "metadata": {},
   "outputs": [],
   "source": [
    "len(df)"
   ]
  },
  {
   "cell_type": "code",
   "execution_count": null,
   "metadata": {},
   "outputs": [],
   "source": [
    "df.to_csv(os.getcwd()+\"\\\\data\\\\data.csv\", index = False)"
   ]
  },
  {
   "cell_type": "code",
   "execution_count": null,
   "metadata": {},
   "outputs": [],
   "source": [
    "df['inputs'].values[0]"
   ]
  },
  {
   "cell_type": "code",
   "execution_count": null,
   "metadata": {},
   "outputs": [],
   "source": [
    "vocab_en.doc2idx(df['inputs'].values[0])"
   ]
  }
 ],
 "metadata": {
  "kernelspec": {
   "display_name": "robots",
   "language": "python",
   "name": "python3"
  },
  "language_info": {
   "codemirror_mode": {
    "name": "ipython",
    "version": 3
   },
   "file_extension": ".py",
   "mimetype": "text/x-python",
   "name": "python",
   "nbconvert_exporter": "python",
   "pygments_lexer": "ipython3",
   "version": "3.10.11"
  },
  "orig_nbformat": 4
 },
 "nbformat": 4,
 "nbformat_minor": 2
}
