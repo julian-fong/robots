{
 "cells": [
  {
   "cell_type": "code",
   "execution_count": 68,
   "metadata": {},
   "outputs": [],
   "source": [
    "import torch\n",
    "import torch.nn as nn\n",
    "from torch.nn import functional as F\n",
    "import os\n",
    "import matplotlib.pyplot as plt\n",
    "import torchtext\n",
    "import spacy\n",
    "import tiktoken\n",
    "import pandas as pd\n",
    "import numpy as np\n",
    "from gensim.corpora.dictionary import Dictionary\n",
    "\n",
    "from tqdm.notebook import tqdm\n",
    "import pickle\n",
    "import ast"
   ]
  },
  {
   "cell_type": "code",
   "execution_count": 26,
   "metadata": {},
   "outputs": [],
   "source": [
    "#GLOBALS\n",
    "\n",
    "block_size = 256 #This is the value of T"
   ]
  },
  {
   "cell_type": "code",
   "execution_count": 27,
   "metadata": {},
   "outputs": [],
   "source": [
    "import os\n",
    "en = spacy.load('en_core_web_sm')\n",
    "de = spacy.load('de_core_news_sm')\n",
    "#spacy.load('en_core_web_sm')\n",
    "#spacy.load('de_core_news_sm')\n",
    "\n",
    "#dataset https://nlp.stanford.edu/projects/nmt/"
   ]
  },
  {
   "cell_type": "code",
   "execution_count": 122,
   "metadata": {},
   "outputs": [],
   "source": [
    "def create_dataset(save_vocab):\n",
    "    num_examples = 10000\n",
    "    vocab_en = Dictionary()\n",
    "\n",
    "    # vocab_en.add_documents([[\"<START>\"]])\n",
    "    # vocab_en.add_documents([[\"<END>\"]])\n",
    "    vocab_en.add_documents([[\"<PAD>\"]])\n",
    "\n",
    "    vocab_ger = Dictionary()\n",
    "\n",
    "    vocab_ger.add_documents([[\"<PAD>\"]])\n",
    "    vocab_ger.add_documents([[\"<START>\"]])\n",
    "    vocab_ger.add_documents([[\"<END>\"]])\n",
    "\n",
    "    en_max = 0 \n",
    "    with open(os.getcwd()+'\\\\data\\\\train_en.txt', 'r', encoding='utf8') as f:\n",
    "        idx_en = []\n",
    "        sentences_en = []\n",
    "        for i in tqdm(range(num_examples)):\n",
    "            line = f.readline()\n",
    "            line = line.replace(\"\\n\", \"\")\n",
    "            len_pad = 0\n",
    "            doc = en(line)\n",
    "            sentence = [[token.text.lower() for token in doc]]\n",
    "            if len(sentence[0]) > en_max:\n",
    "                en_max = len(sentence[0])\n",
    "                print(en_max)\n",
    "            vocab_en.add_documents(sentence)\n",
    "            sentence = [\"<PAD>\"] + sentence[0] + [\"<PAD>\"]\n",
    "\n",
    "            if len(sentence) <= block_size:\n",
    "                len_pad = block_size - len(sentence)\n",
    "                sentence = sentence + len_pad*\"<PAD> \".split()\n",
    "                assert len(sentence) == block_size, print(len(sentence))\n",
    "                idx_en.append(i)\n",
    "                sentences_en.append(sentence)\n",
    "            else:\n",
    "                sentences_en.append(np.NaN)\n",
    "\n",
    "    print(en_max)    \n",
    "    print(f\"Length of sentences: {len(sentences_en)}\")\n",
    "    print(f\"Length of english vocab: {len(vocab_en.token2id)}\")\n",
    "\n",
    "    de_max = 0 \n",
    "    with open(os.getcwd()+'\\\\data\\\\train_de.txt', 'r', encoding='utf8') as f:\n",
    "        idx_de = []\n",
    "        sentences_de = []\n",
    "        for i in tqdm(range(num_examples)):\n",
    "            line = f.readline()\n",
    "            line = line.replace(\"\\n\", \"\")\n",
    "            len_pad = 0\n",
    "            doc = de(line)\n",
    "            sentence = [[token.text.lower() for token in doc]]\n",
    "            if len(sentence[0]) > de_max:\n",
    "                de_max = len(sentence[0])\n",
    "                print(de_max)\n",
    "            vocab_ger.add_documents(sentence)\n",
    "            sentence = [\"<START>\"] + sentence[0] + [\"<END>\"]\n",
    "            if len(sentence) <= block_size:\n",
    "                len_pad = block_size - len(sentence)\n",
    "                sentence = sentence + len_pad*\"<PAD> \".split()\n",
    "                assert len(sentence) == block_size, print(len(sentence))\n",
    "                idx_de.append(i)\n",
    "                sentences_de.append(sentence)\n",
    "            else:\n",
    "                sentences_de.append(np.NaN)\n",
    "                \n",
    "    print(de_max)  \n",
    "    print(f\"Length of sentences: {len(sentences_de)}\")\n",
    "    print(f\"Length of german vocab: {len(vocab_de.token2id)}\")\n",
    "\n",
    "    sentences = np.array([sentences_en, sentences_de])\n",
    "    idx = np.where(np.isnan(sentences))\n",
    "    sentences = np.delete(test, idx[1], axis = 1)\n",
    "\n",
    "    sentences_en = sentences[0]\n",
    "    sentences_de = sentences[1]\n",
    "\n",
    "    print(f\"Length of new english sentences: {len(sentences_en)}\")\n",
    "    print(f\"Length of new german sentences: {len(sentences_de)}\")\n",
    "\n",
    "    if save_vocab:\n",
    "        print(\"not saving this vocab\")\n",
    "        vocab_en.save(os.getcwd()+\"\\\\vocab\\\\vocab_en.pkl\")\n",
    "        vocab_ger.save(os.getcwd()+\"\\\\vocab\\\\vocab_ger.pkl\")\n",
    "\n",
    "    with open(os.getcwd()+'\\\\data\\\\english_sentences.pkl', 'wb') as f:\n",
    "        pickle.dump(sentences_en, f)\n",
    "\n",
    "    with open(os.getcwd()+'\\\\data\\\\german_sentences.pkl', 'wb') as f:\n",
    "        pickle.dump(sentences_de, f)"
   ]
  },
  {
   "cell_type": "code",
   "execution_count": 123,
   "metadata": {},
   "outputs": [
    {
     "data": {
      "application/vnd.jupyter.widget-view+json": {
       "model_id": "9a758bea9e9448eba5317ec4ef79365d",
       "version_major": 2,
       "version_minor": 0
      },
      "text/plain": [
       "  0%|          | 0/10000 [00:00<?, ?it/s]"
      ]
     },
     "metadata": {},
     "output_type": "display_data"
    },
    {
     "name": "stdout",
     "output_type": "stream",
     "text": [
      "32\n",
      "34\n",
      "47\n",
      "49\n",
      "54\n",
      "57\n",
      "58\n",
      "67\n",
      "87\n",
      "91\n",
      "92\n",
      "97\n",
      "98\n",
      "100\n",
      "105\n",
      "117\n",
      "130\n"
     ]
    }
   ],
   "source": [
    "create = True\n",
    "if create:\n",
    "    create_dataset(False)\n",
    "    vocab_en = Dictionary.load(os.getcwd()+\"\\\\vocab\\\\vocab_en.pkl\")\n",
    "    vocab_de = Dictionary.load(os.getcwd()+\"\\\\vocab\\\\vocab_ger.pkl\")\n",
    "else:\n",
    "    vocab_en = Dictionary.load(os.getcwd()+\"\\\\vocab\\\\vocab_en.pkl\")\n",
    "    vocab_de = Dictionary.load(os.getcwd()+\"\\\\vocab\\\\vocab_ger.pkl\")"
   ]
  },
  {
   "cell_type": "code",
   "execution_count": 76,
   "metadata": {},
   "outputs": [],
   "source": [
    "s_to_i_en = vocab_en\n",
    "i_to_s_en = vocab_en.token2id\n",
    "\n",
    "s_to_i_de = vocab_de\n",
    "i_to_s_de = vocab_de.token2id"
   ]
  },
  {
   "cell_type": "code",
   "execution_count": 78,
   "metadata": {},
   "outputs": [],
   "source": [
    "#TRAIN AND VAL DATASETS\n",
    "\n",
    "with open(os.getcwd()+'\\\\data\\\\english_sentences.pkl', 'rb') as f:\n",
    "    english_sentences = pickle.load(f)\n",
    "\n",
    "with open(os.getcwd()+'\\\\data\\\\german_sentences.pkl', 'rb') as f:\n",
    "    german_sentences = pickle.load(f)"
   ]
  },
  {
   "cell_type": "code",
   "execution_count": 83,
   "metadata": {},
   "outputs": [
    {
     "data": {
      "text/plain": [
       "False"
      ]
     },
     "execution_count": 83,
     "metadata": {},
     "output_type": "execute_result"
    }
   ],
   "source": [
    "np.NaN in english_sentences"
   ]
  },
  {
   "cell_type": "code",
   "execution_count": 82,
   "metadata": {},
   "outputs": [
    {
     "ename": "TypeError",
     "evalue": "decoding to str: need a bytes-like object, list found",
     "output_type": "error",
     "traceback": [
      "\u001b[1;31m---------------------------------------------------------------------------\u001b[0m",
      "\u001b[1;31mTypeError\u001b[0m                                 Traceback (most recent call last)",
      "Cell \u001b[1;32mIn[82], line 1\u001b[0m\n\u001b[1;32m----> 1\u001b[0m vocab_en\u001b[39m.\u001b[39;49mdoc2idx([english_sentences])\n",
      "File \u001b[1;32md:\\Anaconda\\envs\\robots\\lib\\site-packages\\gensim\\corpora\\dictionary.py:305\u001b[0m, in \u001b[0;36mDictionary.doc2idx\u001b[1;34m(self, document, unknown_word_index)\u001b[0m\n\u001b[0;32m    302\u001b[0m \u001b[39mif\u001b[39;00m \u001b[39misinstance\u001b[39m(document, \u001b[39mstr\u001b[39m):\n\u001b[0;32m    303\u001b[0m     \u001b[39mraise\u001b[39;00m \u001b[39mTypeError\u001b[39;00m(\u001b[39m\"\u001b[39m\u001b[39mdoc2idx expects an array of unicode tokens on input, not a single string\u001b[39m\u001b[39m\"\u001b[39m)\n\u001b[1;32m--> 305\u001b[0m document \u001b[39m=\u001b[39m [word \u001b[39mif\u001b[39;00m \u001b[39misinstance\u001b[39m(word, \u001b[39mstr\u001b[39m) \u001b[39melse\u001b[39;00m \u001b[39mstr\u001b[39m(word, \u001b[39m'\u001b[39m\u001b[39mutf-8\u001b[39m\u001b[39m'\u001b[39m) \u001b[39mfor\u001b[39;00m word \u001b[39min\u001b[39;00m document]\n\u001b[0;32m    306\u001b[0m \u001b[39mreturn\u001b[39;00m [\u001b[39mself\u001b[39m\u001b[39m.\u001b[39mtoken2id\u001b[39m.\u001b[39mget(word, unknown_word_index) \u001b[39mfor\u001b[39;00m word \u001b[39min\u001b[39;00m document]\n",
      "File \u001b[1;32md:\\Anaconda\\envs\\robots\\lib\\site-packages\\gensim\\corpora\\dictionary.py:305\u001b[0m, in \u001b[0;36m<listcomp>\u001b[1;34m(.0)\u001b[0m\n\u001b[0;32m    302\u001b[0m \u001b[39mif\u001b[39;00m \u001b[39misinstance\u001b[39m(document, \u001b[39mstr\u001b[39m):\n\u001b[0;32m    303\u001b[0m     \u001b[39mraise\u001b[39;00m \u001b[39mTypeError\u001b[39;00m(\u001b[39m\"\u001b[39m\u001b[39mdoc2idx expects an array of unicode tokens on input, not a single string\u001b[39m\u001b[39m\"\u001b[39m)\n\u001b[1;32m--> 305\u001b[0m document \u001b[39m=\u001b[39m [word \u001b[39mif\u001b[39;00m \u001b[39misinstance\u001b[39m(word, \u001b[39mstr\u001b[39m) \u001b[39melse\u001b[39;00m \u001b[39mstr\u001b[39;49m(word, \u001b[39m'\u001b[39;49m\u001b[39mutf-8\u001b[39;49m\u001b[39m'\u001b[39;49m) \u001b[39mfor\u001b[39;00m word \u001b[39min\u001b[39;00m document]\n\u001b[0;32m    306\u001b[0m \u001b[39mreturn\u001b[39;00m [\u001b[39mself\u001b[39m\u001b[39m.\u001b[39mtoken2id\u001b[39m.\u001b[39mget(word, unknown_word_index) \u001b[39mfor\u001b[39;00m word \u001b[39min\u001b[39;00m document]\n",
      "\u001b[1;31mTypeError\u001b[0m: decoding to str: need a bytes-like object, list found"
     ]
    }
   ],
   "source": [
    "vocab_en.doc2idx(english_sentences)"
   ]
  },
  {
   "cell_type": "code",
   "execution_count": 50,
   "metadata": {},
   "outputs": [],
   "source": [
    "#BATCH LOADER\n",
    "n = int(0.9*len(df))\n",
    "train_data_x = vocab_en.doc2idx(df['inputs'].values[:n])\n",
    "val_data_x = vocab_en.doc2idx(df['inputs'].values[n:])\n",
    "\n",
    "train_data_y = vocab_de.doc2idx(df['targets'].values[:n])\n",
    "val_data_y = vocab_de.doc2idx(df['targets'].values[n:])"
   ]
  },
  {
   "cell_type": "code",
   "execution_count": 52,
   "metadata": {},
   "outputs": [
    {
     "data": {
      "text/plain": [
       "-1"
      ]
     },
     "execution_count": 52,
     "metadata": {},
     "output_type": "execute_result"
    }
   ],
   "source": [
    "train_data_x[0]"
   ]
  },
  {
   "attachments": {},
   "cell_type": "markdown",
   "metadata": {},
   "source": [
    "rough work"
   ]
  },
  {
   "cell_type": "code",
   "execution_count": 23,
   "metadata": {},
   "outputs": [
    {
     "data": {
      "text/plain": [
       "['<START>', '<START>', '<START>']"
      ]
     },
     "execution_count": 23,
     "metadata": {},
     "output_type": "execute_result"
    }
   ],
   "source": [
    "test = [0,0,0]\n",
    "[s_to_i_de[i] for i in test]"
   ]
  },
  {
   "cell_type": "code",
   "execution_count": 120,
   "metadata": {},
   "outputs": [
    {
     "data": {
      "text/plain": [
       "array([[ 1.,  2.],\n",
       "       [ 3., nan]])"
      ]
     },
     "execution_count": 120,
     "metadata": {},
     "output_type": "execute_result"
    }
   ],
   "source": [
    "a = [1,2]\n",
    "b = [3,np.NaN]\n",
    "test = np.array([a, b])\n",
    "\n",
    "#test = np.array([[1, 2, 3, 5], [np.NaN, 4, 3, np.NaN], [7, np.NaN, 8, 9], [np.NaN, 6, 2, np.NaN]])\n",
    "\n",
    "test"
   ]
  },
  {
   "cell_type": "code",
   "execution_count": 121,
   "metadata": {},
   "outputs": [
    {
     "data": {
      "text/plain": [
       "array([[1.],\n",
       "       [3.]])"
      ]
     },
     "execution_count": 121,
     "metadata": {},
     "output_type": "execute_result"
    }
   ],
   "source": [
    "sentences = np.array(test)\n",
    "idx = np.where(np.isnan(sentences))\n",
    "sentences = np.delete(test, idx[1], axis = 1)\n",
    "\n",
    "sentences"
   ]
  },
  {
   "cell_type": "code",
   "execution_count": 115,
   "metadata": {},
   "outputs": [],
   "source": [
    "idx = np.where(np.isnan(test))"
   ]
  },
  {
   "cell_type": "code",
   "execution_count": 116,
   "metadata": {},
   "outputs": [
    {
     "data": {
      "text/plain": [
       "array([0, 3, 1, 0, 3], dtype=int64)"
      ]
     },
     "execution_count": 116,
     "metadata": {},
     "output_type": "execute_result"
    }
   ],
   "source": [
    "idx[1]"
   ]
  },
  {
   "cell_type": "code",
   "execution_count": 107,
   "metadata": {},
   "outputs": [],
   "source": [
    "fixed = np.delete(test, idx[1], axis = 1)"
   ]
  },
  {
   "cell_type": "code",
   "execution_count": 111,
   "metadata": {},
   "outputs": [
    {
     "data": {
      "text/plain": [
       "array([3.])"
      ]
     },
     "execution_count": 111,
     "metadata": {},
     "output_type": "execute_result"
    }
   ],
   "source": [
    "fixed[1]"
   ]
  },
  {
   "cell_type": "code",
   "execution_count": null,
   "metadata": {},
   "outputs": [],
   "source": []
  },
  {
   "cell_type": "code",
   "execution_count": 10,
   "metadata": {},
   "outputs": [
    {
     "name": "stdout",
     "output_type": "stream",
     "text": [
      "hello\n",
      "my\n",
      "name\n",
      "is\n",
      "hello\n",
      "name\n",
      "is\n",
      "my\n"
     ]
    }
   ],
   "source": [
    "test = \"hello my name is hello name is my\"\n",
    "test2 = \"one two three four\"\n",
    "\n",
    "doc_ = en(test)\n",
    "\n",
    "for token in doc_:\n",
    "    print(token.text.lower())\n",
    "sentence_ = [[token.text for token in doc_]]\n",
    "#sentence = [sentence + ['one','two']]\n",
    "\n",
    "# sentence\n",
    "\n",
    "sentence2 = [['one', 'two', 'hello']]"
   ]
  },
  {
   "cell_type": "code",
   "execution_count": 11,
   "metadata": {},
   "outputs": [],
   "source": [
    "vocab = Dictionary()\n",
    "\n",
    "vocab.add_documents(sentence_)"
   ]
  },
  {
   "cell_type": "code",
   "execution_count": 15,
   "metadata": {},
   "outputs": [
    {
     "data": {
      "text/plain": [
       "'<PAD>'"
      ]
     },
     "execution_count": 15,
     "metadata": {},
     "output_type": "execute_result"
    }
   ],
   "source": [
    "vocab_en[0]"
   ]
  },
  {
   "cell_type": "code",
   "execution_count": null,
   "metadata": {},
   "outputs": [],
   "source": [
    "vocab.doc2idx(['hello'])"
   ]
  },
  {
   "cell_type": "code",
   "execution_count": null,
   "metadata": {},
   "outputs": [],
   "source": [
    "vocab.save(os.getcwd()+\"\\\\vocab\\\\vocab.pkl\")"
   ]
  },
  {
   "cell_type": "code",
   "execution_count": null,
   "metadata": {},
   "outputs": [],
   "source": [
    "vocab_ = Dictionary.load(os.getcwd()+\"\\\\vocab\\\\vocab.pkl\")\n",
    "\n",
    "vocab_[0]\n",
    "vocab_.doc2idx(['hello'])"
   ]
  },
  {
   "cell_type": "code",
   "execution_count": null,
   "metadata": {},
   "outputs": [],
   "source": [
    "df = pd.DataFrame()"
   ]
  },
  {
   "cell_type": "code",
   "execution_count": null,
   "metadata": {},
   "outputs": [],
   "source": [
    "vocab_en = Dictionary()\n",
    "\n",
    "# vocab_en.add_documents([[\"<START>\"]])\n",
    "# vocab_en.add_documents([[\"<END>\"]])\n",
    "vocab_en.add_documents([[\"<PAD>\"]])\n",
    "\n",
    "vocab_ger = Dictionary()\n",
    "\n",
    "vocab_ger.add_documents([[\"<START>\"]])\n",
    "vocab_ger.add_documents([[\"<END>\"]])\n",
    "vocab_ger.add_documents([[\"<PAD>\"]])"
   ]
  },
  {
   "attachments": {},
   "cell_type": "markdown",
   "metadata": {},
   "source": [
    "max in german text is 238\n",
    "max in english text is 342\n",
    "\n",
    "pad both to 128\n",
    "\n",
    "15 minutes for 100000 sentences, both german and english\n",
    "\n",
    "328514"
   ]
  },
  {
   "cell_type": "code",
   "execution_count": null,
   "metadata": {},
   "outputs": [],
   "source": [
    "en_max = 0 \n",
    "with open(os.getcwd()+'\\\\data\\\\train_en.txt', 'r', encoding='utf8') as f:\n",
    "    idx_en = []\n",
    "    sentences_en = []\n",
    "    for i in tqdm(range(400000)):\n",
    "        line = f.readline()\n",
    "        line = line.replace(\"\\n\", \"\")\n",
    "        len_pad = 0\n",
    "        doc = en(line)\n",
    "        sentence = [[token.text.lower() for token in doc]]\n",
    "        if len(sentence[0]) > en_max:\n",
    "            en_max = len(sentence[0])\n",
    "            print(en_max)\n",
    "        vocab_en.add_documents(sentence)\n",
    "        sentence = [\"<PAD>\"] + sentence[0] + [\"<PAD>\"]\n",
    "        \n",
    "        idx_en.append(i)\n",
    "        if len(sentence) <= 256:\n",
    "            len_pad = 256 - len(sentence)\n",
    "            sentence = sentence + len_pad*\"<PAD> \".split()\n",
    "            assert len(sentence) == 256, print(len(sentence))\n",
    "            sentences_en.append(sentence)\n",
    "        else:\n",
    "            sentences_en.append(np.NaN)\n",
    "\n",
    "print(en_max)    \n",
    "print(len(sentences_en))\n",
    "print(len(vocab_en.token2id))\n",
    "\n",
    "vocab_en.save(os.getcwd()+\"\\\\vocab\\\\vocab_en.pkl\")"
   ]
  },
  {
   "cell_type": "code",
   "execution_count": null,
   "metadata": {},
   "outputs": [],
   "source": [
    "de_max = 0 \n",
    "with open(os.getcwd()+'\\\\data\\\\train_de.txt', 'r', encoding='utf8') as f:\n",
    "    idx_de = []\n",
    "    sentences_de = []\n",
    "    for i in tqdm(range(400000)):\n",
    "        line = f.readline()\n",
    "        line = line.replace(\"\\n\", \"\")\n",
    "        len_pad = 0\n",
    "        doc = de(line)\n",
    "        sentence = [[token.text.lower() for token in doc]]\n",
    "        if len(sentence[0]) > de_max:\n",
    "            de_max = len(sentence[0])\n",
    "            print(de_max)\n",
    "        vocab_ger.add_documents(sentence)\n",
    "        sentence = [\"<START>\"] + sentence[0] + [\"<END>\"]\n",
    "\n",
    "        idx_de.append(i)\n",
    "        if len(sentence) < 256:\n",
    "            len_pad = 256 - len(sentence)\n",
    "            sentence = sentence + len_pad*\"<PAD> \".split()\n",
    "            assert len(sentence) == 256, print(len(sentence))\n",
    "            sentences_de.append(sentence)\n",
    "        else:\n",
    "            sentences_de.append(np.NaN)\n",
    "\n",
    "print(de_max)  \n",
    "print(len(sentences_de))\n",
    "print(len(vocab_ger.token2id))\n",
    "\n",
    "vocab_ger.save(os.getcwd()+\"\\\\vocab\\\\vocab_ger.pkl\")"
   ]
  },
  {
   "cell_type": "code",
   "execution_count": null,
   "metadata": {},
   "outputs": [],
   "source": [
    "assert idx_en == idx_de, print(\"sentences do not align\")"
   ]
  },
  {
   "cell_type": "code",
   "execution_count": null,
   "metadata": {},
   "outputs": [],
   "source": [
    "df['idx_en'] = pd.Series(idx_en)\n",
    "df['inputs'] = pd.Series(sentences_en)\n",
    "df['idx_targets'] = pd.Series(idx_de)\n",
    "df['targets'] = pd.Series(sentences_de)"
   ]
  },
  {
   "cell_type": "code",
   "execution_count": null,
   "metadata": {},
   "outputs": [],
   "source": [
    "df.tail()"
   ]
  },
  {
   "cell_type": "code",
   "execution_count": null,
   "metadata": {},
   "outputs": [],
   "source": [
    "df2 = df.loc[df['idx_en'] == df['idx_targets']]"
   ]
  },
  {
   "cell_type": "code",
   "execution_count": null,
   "metadata": {},
   "outputs": [],
   "source": [
    "df2"
   ]
  },
  {
   "cell_type": "code",
   "execution_count": null,
   "metadata": {},
   "outputs": [],
   "source": [
    "len(df)"
   ]
  },
  {
   "cell_type": "code",
   "execution_count": null,
   "metadata": {},
   "outputs": [],
   "source": [
    "df = df.dropna()"
   ]
  },
  {
   "cell_type": "code",
   "execution_count": null,
   "metadata": {},
   "outputs": [],
   "source": [
    "df = df.drop(columns = [\"idx_en\", \"idx_targets\"], axis = 1)"
   ]
  },
  {
   "cell_type": "code",
   "execution_count": null,
   "metadata": {},
   "outputs": [],
   "source": [
    "df"
   ]
  },
  {
   "cell_type": "code",
   "execution_count": null,
   "metadata": {},
   "outputs": [],
   "source": [
    "len(df)"
   ]
  },
  {
   "cell_type": "code",
   "execution_count": null,
   "metadata": {},
   "outputs": [],
   "source": [
    "df.to_csv(os.getcwd()+\"\\\\data\\\\data.csv\", index = False)"
   ]
  },
  {
   "cell_type": "code",
   "execution_count": null,
   "metadata": {},
   "outputs": [],
   "source": [
    "df['inputs'].values[0]"
   ]
  },
  {
   "cell_type": "code",
   "execution_count": null,
   "metadata": {},
   "outputs": [],
   "source": [
    "vocab_en.doc2idx(df['inputs'].values[0])"
   ]
  }
 ],
 "metadata": {
  "kernelspec": {
   "display_name": "robots",
   "language": "python",
   "name": "python3"
  },
  "language_info": {
   "codemirror_mode": {
    "name": "ipython",
    "version": 3
   },
   "file_extension": ".py",
   "mimetype": "text/x-python",
   "name": "python",
   "nbconvert_exporter": "python",
   "pygments_lexer": "ipython3",
   "version": "3.10.11"
  },
  "orig_nbformat": 4
 },
 "nbformat": 4,
 "nbformat_minor": 2
}
