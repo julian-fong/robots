{
 "cells": [
  {
   "cell_type": "code",
   "execution_count": 1,
   "metadata": {},
   "outputs": [],
   "source": [
    "import torch\n",
    "import torch.nn as nn\n",
    "from torch.nn import functional as F\n",
    "import os\n",
    "import matplotlib.pyplot as plt"
   ]
  },
  {
   "cell_type": "code",
   "execution_count": 2,
   "metadata": {},
   "outputs": [],
   "source": [
    "with open(os.getcwd()+'\\\\data\\\\input.txt', 'r', encoding='utf8') as f:\n",
    "    text = f.read()"
   ]
  },
  {
   "cell_type": "code",
   "execution_count": 2,
   "metadata": {},
   "outputs": [
    {
     "data": {
      "text/plain": [
       "True"
      ]
     },
     "execution_count": 2,
     "metadata": {},
     "output_type": "execute_result"
    }
   ],
   "source": [
    "torch.cuda.is_available()"
   ]
  },
  {
   "cell_type": "code",
   "execution_count": 3,
   "metadata": {},
   "outputs": [
    {
     "name": "stdout",
     "output_type": "stream",
     "text": [
      "\n",
      " !$&',-.3:;?ABCDEFGHIJKLMNOPQRSTUVWXYZabcdefghijklmnopqrstuvwxyz\n",
      "65\n",
      "[46, 47, 47, 1, 58, 46, 43, 56, 43]\n",
      "hii there\n",
      "torch.Size([1115394]) torch.int64\n"
     ]
    }
   ],
   "source": [
    "chars = sorted(list(set(text)))\n",
    "\n",
    "vocab_size = len(chars)\n",
    "\n",
    "print(''.join(chars))\n",
    "print(vocab_size)\n",
    "\n",
    "#strategy to tokenize text\n",
    "\n",
    "#character level mapping\n",
    "\n",
    "s_to_i = {ch:i for i,ch in enumerate(chars)}\n",
    "i_to_s = {i:ch for i,ch in enumerate(chars)}\n",
    "\n",
    "encode = lambda s: [s_to_i[c] for c in s]\n",
    "decode = lambda l: ''.join([i_to_s[c] for c in l])\n",
    "\n",
    "print(encode(\"hii there\"))\n",
    "print(decode(encode(\"hii there\")))\n",
    "\n",
    "#take all of the text and encode them into pytorch tensors\n",
    "\n",
    "data = torch.tensor(encode(text), dtype = torch.long)\n",
    "print(data.shape, data.dtype)"
   ]
  },
  {
   "cell_type": "code",
   "execution_count": 4,
   "metadata": {},
   "outputs": [],
   "source": [
    "#splitting into a train and validation split\n",
    "\n",
    "n = int(0.9*len(data))\n",
    "train_data = data[:n]\n",
    "val_data = data[n:]"
   ]
  },
  {
   "cell_type": "code",
   "execution_count": 5,
   "metadata": {},
   "outputs": [
    {
     "data": {
      "text/plain": [
       "tensor([18, 47, 56, 57, 58,  1, 15, 47, 58])"
      ]
     },
     "execution_count": 5,
     "metadata": {},
     "output_type": "execute_result"
    }
   ],
   "source": [
    "#input the text sequences into the transformer\n",
    "\n",
    "#we only work with chunks of the dataset. when we train the model, we sample chunks of the dataset and train on just chunks at a time. chunks have a maximum length: called block_size\n",
    "\n",
    "block_size = 8\n",
    "train_data[:block_size+1]"
   ]
  },
  {
   "cell_type": "code",
   "execution_count": 6,
   "metadata": {},
   "outputs": [],
   "source": [
    "x = train_data[:block_size]\n",
    "\n",
    "#shift to the right by 1 to get the target\n",
    "y = train_data[1:block_size+1]"
   ]
  },
  {
   "cell_type": "code",
   "execution_count": 7,
   "metadata": {},
   "outputs": [
    {
     "name": "stdout",
     "output_type": "stream",
     "text": [
      "when the input is tensor([18]), the target will be 47\n",
      "when the input is tensor([18, 47]), the target will be 56\n",
      "when the input is tensor([18, 47, 56]), the target will be 57\n",
      "when the input is tensor([18, 47, 56, 57]), the target will be 58\n",
      "when the input is tensor([18, 47, 56, 57, 58]), the target will be 1\n",
      "when the input is tensor([18, 47, 56, 57, 58,  1]), the target will be 15\n",
      "when the input is tensor([18, 47, 56, 57, 58,  1, 15]), the target will be 47\n",
      "when the input is tensor([18, 47, 56, 57, 58,  1, 15, 47]), the target will be 58\n"
     ]
    }
   ],
   "source": [
    "for t in range(block_size):\n",
    "    context = x[:t+1]\n",
    "    target = y[t]\n",
    "\n",
    "    print(f\"when the input is {context}, the target will be {target}\")\n",
    "\n",
    "#we want the model to be robust when seeing contexts of multiple lengths, we set it as 8 so that the model has the capability of looking back at least 'block_size' characters of contexts of. \n",
    "# When we need to predict the 9th or 10th character, we start to truncate the context to continue onwards"
   ]
  },
  {
   "cell_type": "code",
   "execution_count": 9,
   "metadata": {},
   "outputs": [],
   "source": [
    "#GLOBALS\n",
    "\n",
    "batch_size = 4 #This is the value of B\n",
    "block_size = 8 #This is the value of T\n",
    "n_embd = 32 #This is the value of C\n",
    "dropout = 0.4"
   ]
  },
  {
   "cell_type": "code",
   "execution_count": 10,
   "metadata": {},
   "outputs": [
    {
     "name": "stdout",
     "output_type": "stream",
     "text": [
      "inputs:\n",
      "torch.Size([4, 8])\n",
      "tensor([[27, 26, 32, 17, 31, 10,  0, 21],\n",
      "        [ 1, 58, 53, 50, 42,  1, 51, 43],\n",
      "        [61, 53, 59, 50, 42,  1, 53, 52],\n",
      "        [58, 43, 42,  1, 39, 57,  1, 23]])\n",
      "targets:\n",
      "torch.Size([4, 0])\n",
      "tensor([], size=(4, 0), dtype=torch.int64)\n"
     ]
    }
   ],
   "source": [
    "#getting the batches\n",
    "\n",
    "def get_batch(split):\n",
    "    data = train_data if split == 'train' else val_data\n",
    "    ix = torch.randint(len(data) - block_size, (batch_size,))\n",
    "    x = torch.stack([data[i:i+block_size] for i in ix])\n",
    "    y = torch.stack([data[i+1:block_size+1] for i in ix])\n",
    "\n",
    "    return x, y\n",
    "\n",
    "xb, yb = get_batch('train')\n",
    "\n",
    "# print('inputs:')\n",
    "# print(xb.shape)\n",
    "# print(xb)\n",
    "# print('targets:')\n",
    "# print(yb.shape)\n",
    "# print(yb)\n",
    "\n",
    "#xb, yb, of shape (B, T) where B = batch_size, and T = block_size (time sequence)"
   ]
  },
  {
   "attachments": {},
   "cell_type": "markdown",
   "metadata": {},
   "source": [
    "transformer time!\n",
    "\n",
    "head -> multi-head self attention -> feedforward -> block -> Decoder\n",
    "\n",
    "special layers:\n",
    "dropout\n",
    "layernorm\n",
    "linear\n",
    "embedding\n",
    "pos_embedding"
   ]
  },
  {
   "cell_type": "code",
   "execution_count": 11,
   "metadata": {},
   "outputs": [],
   "source": [
    "class Head(nn.Module):\n",
    "    \"\"\"\n",
    "    One Head of self-attention \n",
    "    \"\"\"\n",
    "    def __init__(self, head_size):\n",
    "        super().__init__()\n",
    "\n",
    "        self.head_size = head_size\n",
    "        #initialize the key, query, and value matrices\n",
    "        self.Wk = nn.Linear(n_embd, head_size)\n",
    "        self.Wq = nn.Linear(n_embd, head_size)\n",
    "        self.Wv = nn.Linear(n_embd, head_size)\n",
    "\n",
    "        #since this is a decoder, we need to initialize the mask as well\n",
    "\n",
    "        #we register this as a buffer, which still exists as a 'matrix' to use, but we don't compute gradients on this or use in the backward pass\n",
    "        #model parameters are objects that we use during the forward pass and we update using gradient descent\n",
    "        #model buffers are objects that we use during computation but do not update\n",
    "\n",
    "        #both parameters and buffers are saved to the right device when calling .to_device\n",
    "        self.register_buffer('tril', torch.tril(torch.ones(block_size, block_size)))\n",
    "\n",
    "        self.dropout = nn.Dropout(dropout)\n",
    "\n",
    "    def forward(self, x):\n",
    "        #assume x is of shape (B, T, C)\n",
    "        B, T, C = x.shape\n",
    "        K = self.Wk(x) #(B, T, head_size)\n",
    "        Q = self.Wq(x) #(B, T, head_size)\n",
    "        V = self.Wv(x) #(B, T, head_size)\n",
    "\n",
    "        #K.T needs to be of shape (B, C, T), so we swap the -2 and -1 positions\n",
    "        scores = Q @ K.tranpose(-2, -1) * 1/(self.head_size)**2 #(B, T, T)\n",
    "        masked_scores = scores.masked_fill(self.tril[:T, :T] == 0, float('-inf')) #(B, T, T)\n",
    "        attention_scores = F.softmax(masked_scores, dim = -1) #applying softmax along the rows (B, T, T)\n",
    "        attention_scores = self.dropout(attention_scores) #(B, T, T)\n",
    "        \n",
    "        out = attention_scores @ V #(B, T, head_size)\n",
    "        \n",
    "        return out #(B, T, head_size)\n"
   ]
  },
  {
   "cell_type": "code",
   "execution_count": 12,
   "metadata": {},
   "outputs": [],
   "source": [
    "class MultiHeadAttention(nn.Module):\n",
    "    def __init__(self, n_heads, head_size):\n",
    "        super().__init__()\n",
    "        self.heads = nn.ModuleList([Head(head_size) for _ in range(n_heads)]) #(B, T, n_heads*head_size)\n",
    "        self.proj = nn.Linear(n_heads * head_size, n_embd) #paper specifies a final linear layer\n",
    "        self.dropout = nn.Dropout(dropout)\n",
    "\n",
    "    def forward(self, x):\n",
    "        #assume input x is of size (B, T, C)\n",
    "\n",
    "        #Each Head returns a output of size (B, T, head_size), we concatenate along the final dimension so that our variable 'out' is now (B, T, n_heads*head_size)\n",
    "        out = torch.cat([h(x) for h in self.heads], dim = -1)\n",
    "        out = self.proj(out) #(B, T, C)\n",
    "        out = self.dropout(out)\n",
    "\n",
    "        return out"
   ]
  },
  {
   "cell_type": "code",
   "execution_count": 13,
   "metadata": {},
   "outputs": [],
   "source": [
    "class FeedForward(nn.Module):\n",
    "    def __init__(self):\n",
    "        #input and output will be of size (B, T, C)\n",
    "        self.ff1 = nn.Linear(n_embd, 4*n_embd)\n",
    "        self.ff2 = nn.Linear(4*n_embd, n_embd)\n",
    "        self.relu = nn.ReLU()\n",
    "        self.dropout = nn.Dropout(dropout)\n",
    "\n",
    "    def forward(self, x):\n",
    "        #assume x is of shape (B, T, C)\n",
    "        x = self.ff1(x)\n",
    "        x = self.relu(x)\n",
    "        x = self.ff2(x)\n",
    "        x = dropout(x)\n",
    "\n",
    "        return x"
   ]
  },
  {
   "cell_type": "code",
   "execution_count": 14,
   "metadata": {},
   "outputs": [],
   "source": [
    "class Block(nn.Module):\n",
    "    #implementaion of one transformer block\n",
    "    def __init__(self, n_head):\n",
    "        super().__init__()\n",
    "        self.head_size = n_embd / n_head\n",
    "\n",
    "        self.sa = MultiHeadAttention(n_head, self.head_size)\n",
    "        self.ffw = FeedForward(n_embd)\n",
    "        self.layernorm1 = nn.LayerNorm(n_embd)\n",
    "        self.layernorm2 = nn.LayerNorm(n_embd)\n",
    "\n",
    "    def forward(self, x):\n",
    "        #assume input of x is size (B, T, C) where x is the sum of the embedded input + positional_encoding\n",
    "        x = self.layernorm1(x) #(B, T, C)\n",
    "        x = x + self.sa(x) #(B, T, C)\n",
    "        x = self.layernorm2(x) #(B, T, C)\n",
    "        x = x + self.ffw(x) #(B, T, C)\n",
    "\n",
    "        return x\n"
   ]
  }
 ],
 "metadata": {
  "kernelspec": {
   "display_name": "robots",
   "language": "python",
   "name": "python3"
  },
  "language_info": {
   "codemirror_mode": {
    "name": "ipython",
    "version": 3
   },
   "file_extension": ".py",
   "mimetype": "text/x-python",
   "name": "python",
   "nbconvert_exporter": "python",
   "pygments_lexer": "ipython3",
   "version": "3.10.11"
  },
  "orig_nbformat": 4
 },
 "nbformat": 4,
 "nbformat_minor": 2
}
